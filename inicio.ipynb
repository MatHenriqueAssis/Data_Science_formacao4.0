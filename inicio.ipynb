{
 "cells": [
  {
   "cell_type": "code",
   "execution_count": null,
   "id": "13b0f42d",
   "metadata": {},
   "outputs": [],
   "source": [
    "# Importando bibliotecas python\n",
    "\n",
    "import pandas as pd\n",
    "import numpy as np\n",
    "import matplotlib.pyplot as plt\n",
    "import seaborn as sns\n",
    "import openpyxl as xl"
   ]
  },
  {
   "cell_type": "code",
   "execution_count": null,
   "id": "4c8d70f3",
   "metadata": {},
   "outputs": [],
   "source": [
    "# Leitura do arquivo\n",
    "df = pd.read_csv('instances/ICG_BRASIL_REGIOES_UFS_2024.csv')\n",
    "df.head()\n"
   ]
  },
  {
   "cell_type": "code",
   "execution_count": null,
   "id": "dda32c54",
   "metadata": {},
   "outputs": [],
   "source": [
    "# Renomear colunas para facilitar a análise\n",
    "df.rename(columns={\n",
    "    'NU_ANO_CENSO': 'Ano',\n",
    "    'UNIDGEO': 'Unidade_Geografica',\n",
    "    'NO_CATEGORIA': 'Categoria_Localizacao',\n",
    "    'NO_DEPENDENCIA': 'Dependencia_Administrativa',\n",
    "    'EDU_BAS_CAT_1': 'Abaixo_do_Basico',\n",
    "    'EDU_BAS_CAT_2': 'No_Basico',\n",
    "    'EDU_BAS_CAT_3': 'No_Adequado',\n",
    "    'EDU_BAS_CAT_4': 'No_Avancado',\n",
    "    'EDU_BAS_CAT_5': 'Sem_Informacao',\n",
    "    'EDU_BAS_CAT_6': 'Nao_Se_Aplica'\n",
    "}, inplace=True)\n",
    "\n",
    "# Verificar as novas colunas\n",
    "df.head()\n"
   ]
  },
  {
   "cell_type": "code",
   "execution_count": null,
   "id": "0f5fdf56",
   "metadata": {},
   "outputs": [],
   "source": [
    "# Selecionar apenas colunas relevantes\n",
    "colunas_relevantes = [\n",
    "    'Unidade_Geografica',\n",
    "    'Categoria_Localizacao',\n",
    "    'Dependencia_Administrativa',\n",
    "    'Abaixo_do_Basico',\n",
    "    'No_Basico',\n",
    "    'No_Adequado',\n",
    "    'No_Avancado'\n",
    "]\n",
    "\n",
    "df_filtrado = df[colunas_relevantes]\n",
    "\n",
    "# Salvar como novo CSV\n",
    "df_filtrado.to_csv('instances/ICG_2024_Tratado.csv', index=False)\n"
   ]
  },
  {
   "cell_type": "code",
   "execution_count": null,
   "id": "3f6264eb",
   "metadata": {},
   "outputs": [],
   "source": [
    "# Verificar estrutura do DataFrame\n",
    "df.info()\n",
    "\n",
    "# Verificar valores ausentes\n",
    "df.isnull().sum()\n",
    "\n",
    "# Preencher valores faltantes com zero (ou outro valor apropriado)\n",
    "df.fillna(0, inplace=True)\n",
    "\n",
    "# Selecionar colunas relevantes para análise\n",
    "colunas_relevantes = [\n",
    "    'Unidade_Geografica', 'Categoria_Localizacao', 'Dependencia_Administrativa',\n",
    "    'Abaixo_do_Basico', 'No_Basico', 'No_Adequado', 'No_Avancado'\n",
    "]\n",
    "df = df[colunas_relevantes]\n",
    "\n",
    "# Visualizar as primeiras linhas após tratamento\n",
    "df.head()\n"
   ]
  },
  {
   "cell_type": "code",
   "execution_count": null,
   "id": "a3904bbd",
   "metadata": {},
   "outputs": [],
   "source": [
    "# Estatísticas descritivas para as variáveis numéricas\n",
    "df.describe()\n"
   ]
  },
  {
   "cell_type": "code",
   "execution_count": null,
   "id": "b0fcaf83",
   "metadata": {},
   "outputs": [],
   "source": [
    "# Média de indicadores por tipo de dependência administrativa\n",
    "df.groupby('Dependencia_Administrativa')[['Abaixo_do_Basico', 'No_Basico', 'No_Adequado']].mean()\n",
    "\n",
    "# Média de indicadores por categoria de localização (Urbana/Rural)\n",
    "df.groupby('Categoria_Localizacao')[['Abaixo_do_Basico', 'No_Basico', 'No_Adequado']].mean()\n"
   ]
  },
  {
   "cell_type": "code",
   "execution_count": null,
   "id": "82d3d286",
   "metadata": {},
   "outputs": [],
   "source": [
    "\n",
    "# Boxplot: Distribuição de \"Abaixo do Básico\" por Dependência Administrativa\n",
    "plt.figure(figsize=(10, 6))\n",
    "sns.boxplot(data=df, x='Dependencia_Administrativa', y='Abaixo_do_Basico')\n",
    "plt.title('Distribuição do Indicador \"Abaixo do Básico\" por Dependência Administrativa')\n",
    "plt.xticks(rotation=45)\n",
    "plt.tight_layout()\n",
    "plt.show()\n"
   ]
  },
  {
   "cell_type": "code",
   "execution_count": null,
   "id": "8655cdbb",
   "metadata": {},
   "outputs": [],
   "source": [
    "# Gráfico de barras: Média por categoria de localização\n",
    "plt.figure(figsize=(10, 6))\n",
    "df.groupby('Categoria_Localizacao')['Abaixo_do_Basico'].mean().plot(kind='bar', color='skyblue')\n",
    "plt.ylabel('Média - Abaixo do Básico')\n",
    "plt.title('Média do Indicador \"Abaixo do Básico\" por Localização')\n",
    "plt.xticks(rotation=0)\n",
    "plt.tight_layout()\n",
    "plt.show()\n"
   ]
  }
 ],
 "metadata": {
  "kernelspec": {
   "display_name": ".venv",
   "language": "python",
   "name": "python3"
  },
  "language_info": {
   "codemirror_mode": {
    "name": "ipython",
    "version": 3
   },
   "file_extension": ".py",
   "mimetype": "text/x-python",
   "name": "python",
   "nbconvert_exporter": "python",
   "pygments_lexer": "ipython3",
   "version": "3.11.9"
  }
 },
 "nbformat": 4,
 "nbformat_minor": 5
}
